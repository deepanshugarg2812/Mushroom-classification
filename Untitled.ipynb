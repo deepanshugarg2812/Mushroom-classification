{
 "cells": [
  {
   "cell_type": "markdown",
   "metadata": {},
   "source": [
    "### Text processing"
   ]
  },
  {
   "cell_type": "code",
   "execution_count": 2,
   "metadata": {},
   "outputs": [],
   "source": [
    "from nltk.corpus import brown"
   ]
  },
  {
   "cell_type": "code",
   "execution_count": 3,
   "metadata": {},
   "outputs": [
    {
     "data": {
      "text/plain": [
       "['adventure',\n",
       " 'belles_lettres',\n",
       " 'editorial',\n",
       " 'fiction',\n",
       " 'government',\n",
       " 'hobbies',\n",
       " 'humor',\n",
       " 'learned',\n",
       " 'lore',\n",
       " 'mystery',\n",
       " 'news',\n",
       " 'religion',\n",
       " 'reviews',\n",
       " 'romance',\n",
       " 'science_fiction']"
      ]
     },
     "execution_count": 3,
     "metadata": {},
     "output_type": "execute_result"
    }
   ],
   "source": [
    "brown.categories()"
   ]
  },
  {
   "cell_type": "code",
   "execution_count": 5,
   "metadata": {},
   "outputs": [],
   "source": [
    "data = brown.sents(categories='editorial')[:100]"
   ]
  },
  {
   "cell_type": "code",
   "execution_count": 6,
   "metadata": {},
   "outputs": [
    {
     "name": "stdout",
     "output_type": "stream",
     "text": [
      "['Assembly', 'session', 'brought', 'much', 'good']\n"
     ]
    }
   ],
   "source": [
    "print(data[0])"
   ]
  },
  {
   "cell_type": "markdown",
   "metadata": {},
   "source": [
    "### Tokenization"
   ]
  },
  {
   "cell_type": "code",
   "execution_count": 7,
   "metadata": {},
   "outputs": [],
   "source": [
    "from nltk.tokenize import word_tokenize,sent_tokenize"
   ]
  },
  {
   "cell_type": "code",
   "execution_count": 25,
   "metadata": {},
   "outputs": [
    {
     "name": "stdout",
     "output_type": "stream",
     "text": [
      "['Hello world i am deepanshu']\n",
      "<class 'list'>\n"
     ]
    }
   ],
   "source": [
    "text = \"Hello world i am deepanshu\"\n",
    "st = sent_tokenize(text)\n",
    "print(st)\n",
    "wt = word_tokenize(text)\n",
    "print(type(wt))"
   ]
  },
  {
   "cell_type": "markdown",
   "metadata": {},
   "source": [
    "### Stop word removal"
   ]
  },
  {
   "cell_type": "code",
   "execution_count": 15,
   "metadata": {},
   "outputs": [],
   "source": [
    "from nltk.corpus import stopwords"
   ]
  },
  {
   "cell_type": "code",
   "execution_count": 29,
   "metadata": {},
   "outputs": [
    {
     "name": "stdout",
     "output_type": "stream",
     "text": [
      "{'at', 'too', 'some', 'own', 'only', 'i', 'before', 'with', 'few', 'it', 'having', 'ma', 'once', 'yourself', \"couldn't\", 'until', 'aren', 'did', 'as', 'didn', 'been', 'by', 'we', 'below', 'that', \"don't\", 'needn', 'between', 'will', \"shouldn't\", 'wasn', \"wasn't\", \"weren't\", 'such', \"didn't\", 'him', 'they', 'than', 'against', 'who', 'ours', 'herself', 'and', 'when', 'she', 'weren', 'itself', 'won', \"hasn't\", \"should've\", 'are', 'same', 'of', 'off', 'himself', 'if', 'most', 'the', 'hasn', 'what', 'is', 'through', \"you're\", 'any', \"you'd\", 'under', 'where', \"aren't\", 'being', 'themselves', 'ain', 'why', 'hers', 'a', 'now', 'these', 'my', 'how', 'm', 'yours', \"shan't\", \"doesn't\", 'here', 'into', 'above', 'shan', 'd', 'doing', 'while', \"mustn't\", 'other', 'or', 'its', 'you', 'her', 'isn', 'ourselves', 'but', 'for', 'about', \"it's\", 'were', 'then', 'on', \"mightn't\", 'just', 'couldn', 've', 'so', 'mustn', 'up', 'from', 'again', 'll', 'them', 't', 'can', 'shouldn', 'don', 'nor', 'more', 'do', 'hadn', 'in', \"she's\", 'an', 'to', 'his', \"haven't\", 'have', 'there', 'o', 'further', 'their', 'because', 'theirs', \"that'll\", 'during', \"you've\", 'this', 'does', 'those', 'which', 're', 'wouldn', 'our', 'was', 'not', 'am', 'very', 's', 'y', 'down', 'your', 'all', \"you'll\", \"wouldn't\", 'out', 'after', 'should', \"hadn't\", 'each', \"isn't\", 'be', \"needn't\", 'yourselves', 'both', \"won't\", 'myself', 'mightn', 'whom', 'no', 'doesn', 'he', 'had', 'haven', 'me', 'over', 'has'}\n"
     ]
    }
   ],
   "source": [
    "st = set(stopwords.words('english'))\n",
    "print(st)"
   ]
  },
  {
   "cell_type": "code",
   "execution_count": 30,
   "metadata": {},
   "outputs": [
    {
     "data": {
      "text/plain": [
       "['Hello', 'world', 'deepanshu']"
      ]
     },
     "execution_count": 30,
     "metadata": {},
     "output_type": "execute_result"
    }
   ],
   "source": [
    "#### Filter words from the sentence\n",
    "def removeStopwords(wt):\n",
    "    useful_words = [w for w in wt if w not in st]\n",
    "    return useful_words\n",
    "\n",
    "removeStopwords(wt)"
   ]
  },
  {
   "cell_type": "code",
   "execution_count": null,
   "metadata": {},
   "outputs": [],
   "source": []
  }
 ],
 "metadata": {
  "kernelspec": {
   "display_name": "Python 3",
   "language": "python",
   "name": "python3"
  },
  "language_info": {
   "codemirror_mode": {
    "name": "ipython",
    "version": 3
   },
   "file_extension": ".py",
   "mimetype": "text/x-python",
   "name": "python",
   "nbconvert_exporter": "python",
   "pygments_lexer": "ipython3",
   "version": "3.7.4"
  }
 },
 "nbformat": 4,
 "nbformat_minor": 2
}
